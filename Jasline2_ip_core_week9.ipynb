{
  "nbformat": 4,
  "nbformat_minor": 0,
  "metadata": {
    "colab": {
      "name": "Jasline_ip_core_week9.ipynb",
      "provenance": []
    },
    "kernelspec": {
      "name": "python3",
      "display_name": "Python 3"
    }
  },
  "cells": [
    {
      "cell_type": "markdown",
      "metadata": {
        "id": "tQOyjtrmMuMn",
        "colab_type": "text"
      },
      "source": [
        "\n",
        "# Week 9 Independent Project - Titanic Dataset\n",
        "Understanding the Context and Problem Definition\n",
        "In 1912 the Titanic sank after colliding with an iceberg resulting in the deaths of majority of its passengers (1502 out of 2224 passengers and crew) which translated a 32% survival rate.\n",
        "\n",
        "One of the reasons that the shipwreck led to such loss of life was that there were not enough life boats for the passengers and crew.\n",
        "\n",
        "Although there was some element of luck involved in surviving the sinking, some groups of people were more likely to survive than others, such as women, children, and the upper-class since they were given priority on the life boats.\n",
        "\n",
        "Knowing various features about every single passenger, can our model determine if these passengers named in the dataset survived or not?\n",
        "\n",
        "Instructions\n",
        "The Titanic Dataset\n",
        "\n",
        "- The test set doesn't have the label feature, therefore we will use the train set to create the train(80%) and test data(20%) i.e. spliiting further.\n",
        "- Thereafter perform the K-Nearest Neighbor Classifier.\n",
        "- Compute the accuracy (percentage of correct classification).\n",
        "- Report the confusion matrix of the KNN Classifier.\n",
        "- Repeat the steps twice, each time splitting the datasets differently i.e. 70-30, 60-40.Then note the outcomes of your modeling.\n",
        "- Suggest and apply an optimization technique.\n",
        "- Provide further recommendations to improve the classifier."
      ]
    },
    {
      "cell_type": "markdown",
      "metadata": {
        "id": "sX1mNqcCM9va",
        "colab_type": "text"
      },
      "source": [
        ""
      ]
    },
    {
      "cell_type": "code",
      "metadata": {
        "id": "5H35hbWjzZo8",
        "colab_type": "code",
        "colab": {}
      },
      "source": [
        "#Import the necessary libraries\n",
        "\n",
        "import pandas as pd\n",
        "import numpy as np\n",
        "import seaborn as sns \n",
        "import matplotlib.pyplot as plt\n",
        "\n",
        "\n",
        "#Import the necessary sci-kit learn importation commands\n",
        "from sklearn.model_selection import train_test_split\n",
        "from sklearn.metrics import classification_report\n",
        "from sklearn.neighbors import KNeighborsClassifier\n",
        "from sklearn.metrics import accuracy_score\n",
        "from sklearn.metrics import confusion_matrix\n",
        "from sklearn.model_selection import KFold\n",
        "from sklearn.model_selection import GridSearchCV\n",
        "from sklearn import metrics\n",
        "\n",
        "#Miscellaneous imports\n",
        "import warnings\n",
        "warnings.filterwarnings('ignore')"
      ],
      "execution_count": 0,
      "outputs": []
    },
    {
      "cell_type": "markdown",
      "metadata": {
        "id": "hkBJzeUF_Ah1",
        "colab_type": "text"
      },
      "source": [
        "Load the titanic datasets. There is a train set and a test set.\n",
        "\n"
      ]
    },
    {
      "cell_type": "code",
      "metadata": {
        "id": "VNoI7aJD_C2m",
        "colab_type": "code",
        "colab": {
          "base_uri": "https://localhost:8080/",
          "height": 246
        },
        "outputId": "cb35943f-1fe8-441b-c4d9-8690a3d4be19"
      },
      "source": [
        "#Import the train dataset\n",
        "\n",
        "train = pd.read_csv('/content/train.csv')\n",
        "\n",
        "train.head()"
      ],
      "execution_count": 5,
      "outputs": [
        {
          "output_type": "execute_result",
          "data": {
            "text/html": [
              "<div>\n",
              "<style scoped>\n",
              "    .dataframe tbody tr th:only-of-type {\n",
              "        vertical-align: middle;\n",
              "    }\n",
              "\n",
              "    .dataframe tbody tr th {\n",
              "        vertical-align: top;\n",
              "    }\n",
              "\n",
              "    .dataframe thead th {\n",
              "        text-align: right;\n",
              "    }\n",
              "</style>\n",
              "<table border=\"1\" class=\"dataframe\">\n",
              "  <thead>\n",
              "    <tr style=\"text-align: right;\">\n",
              "      <th></th>\n",
              "      <th>PassengerId</th>\n",
              "      <th>Survived</th>\n",
              "      <th>Pclass</th>\n",
              "      <th>Name</th>\n",
              "      <th>Sex</th>\n",
              "      <th>Age</th>\n",
              "      <th>SibSp</th>\n",
              "      <th>Parch</th>\n",
              "      <th>Ticket</th>\n",
              "      <th>Fare</th>\n",
              "      <th>Cabin</th>\n",
              "      <th>Embarked</th>\n",
              "    </tr>\n",
              "  </thead>\n",
              "  <tbody>\n",
              "    <tr>\n",
              "      <th>0</th>\n",
              "      <td>1</td>\n",
              "      <td>0</td>\n",
              "      <td>3</td>\n",
              "      <td>Braund, Mr. Owen Harris</td>\n",
              "      <td>male</td>\n",
              "      <td>22.0</td>\n",
              "      <td>1</td>\n",
              "      <td>0</td>\n",
              "      <td>A/5 21171</td>\n",
              "      <td>7.2500</td>\n",
              "      <td>NaN</td>\n",
              "      <td>S</td>\n",
              "    </tr>\n",
              "    <tr>\n",
              "      <th>1</th>\n",
              "      <td>2</td>\n",
              "      <td>1</td>\n",
              "      <td>1</td>\n",
              "      <td>Cumings, Mrs. John Bradley (Florence Briggs Th...</td>\n",
              "      <td>female</td>\n",
              "      <td>38.0</td>\n",
              "      <td>1</td>\n",
              "      <td>0</td>\n",
              "      <td>PC 17599</td>\n",
              "      <td>71.2833</td>\n",
              "      <td>C85</td>\n",
              "      <td>C</td>\n",
              "    </tr>\n",
              "    <tr>\n",
              "      <th>2</th>\n",
              "      <td>3</td>\n",
              "      <td>1</td>\n",
              "      <td>3</td>\n",
              "      <td>Heikkinen, Miss. Laina</td>\n",
              "      <td>female</td>\n",
              "      <td>26.0</td>\n",
              "      <td>0</td>\n",
              "      <td>0</td>\n",
              "      <td>STON/O2. 3101282</td>\n",
              "      <td>7.9250</td>\n",
              "      <td>NaN</td>\n",
              "      <td>S</td>\n",
              "    </tr>\n",
              "    <tr>\n",
              "      <th>3</th>\n",
              "      <td>4</td>\n",
              "      <td>1</td>\n",
              "      <td>1</td>\n",
              "      <td>Futrelle, Mrs. Jacques Heath (Lily May Peel)</td>\n",
              "      <td>female</td>\n",
              "      <td>35.0</td>\n",
              "      <td>1</td>\n",
              "      <td>0</td>\n",
              "      <td>113803</td>\n",
              "      <td>53.1000</td>\n",
              "      <td>C123</td>\n",
              "      <td>S</td>\n",
              "    </tr>\n",
              "    <tr>\n",
              "      <th>4</th>\n",
              "      <td>5</td>\n",
              "      <td>0</td>\n",
              "      <td>3</td>\n",
              "      <td>Allen, Mr. William Henry</td>\n",
              "      <td>male</td>\n",
              "      <td>35.0</td>\n",
              "      <td>0</td>\n",
              "      <td>0</td>\n",
              "      <td>373450</td>\n",
              "      <td>8.0500</td>\n",
              "      <td>NaN</td>\n",
              "      <td>S</td>\n",
              "    </tr>\n",
              "  </tbody>\n",
              "</table>\n",
              "</div>"
            ],
            "text/plain": [
              "   PassengerId  Survived  Pclass  ...     Fare Cabin  Embarked\n",
              "0            1         0       3  ...   7.2500   NaN         S\n",
              "1            2         1       1  ...  71.2833   C85         C\n",
              "2            3         1       3  ...   7.9250   NaN         S\n",
              "3            4         1       1  ...  53.1000  C123         S\n",
              "4            5         0       3  ...   8.0500   NaN         S\n",
              "\n",
              "[5 rows x 12 columns]"
            ]
          },
          "metadata": {
            "tags": []
          },
          "execution_count": 5
        }
      ]
    },
    {
      "cell_type": "code",
      "metadata": {
        "id": "hPuuqsqg_8Me",
        "colab_type": "code",
        "colab": {
          "base_uri": "https://localhost:8080/",
          "height": 196
        },
        "outputId": "b3f71ed5-8c1c-41f9-9460-2ebcdd915a14"
      },
      "source": [
        "\n",
        "#Import the test dataset\n",
        "\n",
        "test = pd.read_csv('/content/test.csv')\n",
        "\n",
        "test.head()"
      ],
      "execution_count": 6,
      "outputs": [
        {
          "output_type": "execute_result",
          "data": {
            "text/html": [
              "<div>\n",
              "<style scoped>\n",
              "    .dataframe tbody tr th:only-of-type {\n",
              "        vertical-align: middle;\n",
              "    }\n",
              "\n",
              "    .dataframe tbody tr th {\n",
              "        vertical-align: top;\n",
              "    }\n",
              "\n",
              "    .dataframe thead th {\n",
              "        text-align: right;\n",
              "    }\n",
              "</style>\n",
              "<table border=\"1\" class=\"dataframe\">\n",
              "  <thead>\n",
              "    <tr style=\"text-align: right;\">\n",
              "      <th></th>\n",
              "      <th>PassengerId</th>\n",
              "      <th>Pclass</th>\n",
              "      <th>Name</th>\n",
              "      <th>Sex</th>\n",
              "      <th>Age</th>\n",
              "      <th>SibSp</th>\n",
              "      <th>Parch</th>\n",
              "      <th>Ticket</th>\n",
              "      <th>Fare</th>\n",
              "      <th>Cabin</th>\n",
              "      <th>Embarked</th>\n",
              "    </tr>\n",
              "  </thead>\n",
              "  <tbody>\n",
              "    <tr>\n",
              "      <th>0</th>\n",
              "      <td>892</td>\n",
              "      <td>3</td>\n",
              "      <td>Kelly, Mr. James</td>\n",
              "      <td>male</td>\n",
              "      <td>34.5</td>\n",
              "      <td>0</td>\n",
              "      <td>0</td>\n",
              "      <td>330911</td>\n",
              "      <td>7.8292</td>\n",
              "      <td>NaN</td>\n",
              "      <td>Q</td>\n",
              "    </tr>\n",
              "    <tr>\n",
              "      <th>1</th>\n",
              "      <td>893</td>\n",
              "      <td>3</td>\n",
              "      <td>Wilkes, Mrs. James (Ellen Needs)</td>\n",
              "      <td>female</td>\n",
              "      <td>47.0</td>\n",
              "      <td>1</td>\n",
              "      <td>0</td>\n",
              "      <td>363272</td>\n",
              "      <td>7.0000</td>\n",
              "      <td>NaN</td>\n",
              "      <td>S</td>\n",
              "    </tr>\n",
              "    <tr>\n",
              "      <th>2</th>\n",
              "      <td>894</td>\n",
              "      <td>2</td>\n",
              "      <td>Myles, Mr. Thomas Francis</td>\n",
              "      <td>male</td>\n",
              "      <td>62.0</td>\n",
              "      <td>0</td>\n",
              "      <td>0</td>\n",
              "      <td>240276</td>\n",
              "      <td>9.6875</td>\n",
              "      <td>NaN</td>\n",
              "      <td>Q</td>\n",
              "    </tr>\n",
              "    <tr>\n",
              "      <th>3</th>\n",
              "      <td>895</td>\n",
              "      <td>3</td>\n",
              "      <td>Wirz, Mr. Albert</td>\n",
              "      <td>male</td>\n",
              "      <td>27.0</td>\n",
              "      <td>0</td>\n",
              "      <td>0</td>\n",
              "      <td>315154</td>\n",
              "      <td>8.6625</td>\n",
              "      <td>NaN</td>\n",
              "      <td>S</td>\n",
              "    </tr>\n",
              "    <tr>\n",
              "      <th>4</th>\n",
              "      <td>896</td>\n",
              "      <td>3</td>\n",
              "      <td>Hirvonen, Mrs. Alexander (Helga E Lindqvist)</td>\n",
              "      <td>female</td>\n",
              "      <td>22.0</td>\n",
              "      <td>1</td>\n",
              "      <td>1</td>\n",
              "      <td>3101298</td>\n",
              "      <td>12.2875</td>\n",
              "      <td>NaN</td>\n",
              "      <td>S</td>\n",
              "    </tr>\n",
              "  </tbody>\n",
              "</table>\n",
              "</div>"
            ],
            "text/plain": [
              "   PassengerId  Pclass  ... Cabin Embarked\n",
              "0          892       3  ...   NaN        Q\n",
              "1          893       3  ...   NaN        S\n",
              "2          894       2  ...   NaN        Q\n",
              "3          895       3  ...   NaN        S\n",
              "4          896       3  ...   NaN        S\n",
              "\n",
              "[5 rows x 11 columns]"
            ]
          },
          "metadata": {
            "tags": []
          },
          "execution_count": 6
        }
      ]
    },
    {
      "cell_type": "markdown",
      "metadata": {
        "id": "eu0xiYr9AlSz",
        "colab_type": "text"
      },
      "source": [
        "\n",
        "### Data Dictionary\n",
        "\n",
        "Survival --- Did the passenger survive? (0 = No, 1 = Yes)\n",
        "\n",
        "Pclass ---Ticket class (1 = 1st, 2 = 2nd, 3 = 3rd)\n",
        "\n",
        "Sex ---Sex (male or female)\n",
        "\n",
        "Age ---Age in years of the passenger.\n",
        "\n",
        "Sibsp ---Number of siblings/spouses aboard the Titanic.\n",
        "\n",
        "Parch --- Number of parents/children aboard the Titanic.\n",
        "\n",
        "Ticket ---Ticket number.\n",
        "\n",
        "Fare ---Passenger fare.\n",
        "\n",
        "Cabin ---Cabin number.\n",
        "\n",
        "Embarked ---Port of Embarkation (C = Cherbourg, Q = Queenstown, S = Southampton)\n",
        "\n",
        "Understanding the titanic dataset\n",
        "\n",
        "The aim of the study is to actually predict chances of survival for a passenger on board the Titanic.\n",
        "\n",
        "The Pclass column tells us if a passenger was in 1st class, 2nd or 3rd class. This is an indication of the economic status of a passenger. Passenger fare is also an indication of economic status.\n",
        "\n",
        "To establish the size of a family one has to factor in the number of siblings and spouses aboard and the number of parents and children aboard.\n",
        "\n",
        "Some of the unnecessary columns are : Ticket , PassengerId , Cabin .\n",
        "\n",
        "The train set has the Survival column as the dependent feature (label) and the other columns are independent of each other.\n",
        "\n",
        "The test dataset doesn't seem to have the Survival column therefore the instructions dictate that we make use of the train dataset and split it further to create another subset of the train and test sets to work with.\n",
        "\n",
        "Let's rename the train set to titanic since this is the primary dataset we will be using."
      ]
    },
    {
      "cell_type": "code",
      "metadata": {
        "id": "fvKs-T8IApX-",
        "colab_type": "code",
        "colab": {}
      },
      "source": [
        "#Let's start by dropping the unecessary columns\n",
        "\n",
        "column_to_drop = ['PassengerId','Ticket','Cabin']\n",
        "\n",
        "train.drop(column_to_drop, axis=1, inplace = True)"
      ],
      "execution_count": 0,
      "outputs": []
    },
    {
      "cell_type": "code",
      "metadata": {
        "id": "IoLCPKKFBVyJ",
        "colab_type": "code",
        "colab": {
          "base_uri": "https://localhost:8080/",
          "height": 47
        },
        "outputId": "316e74c2-0263-469d-84aa-19d19d64efb7"
      },
      "source": [
        "#Rearrange the columns making sure the label column (column to predict) is last\n",
        "\n",
        "train = train[['Pclass','Name','Sex','Age','SibSp','Parch','Fare','Embarked','Survived']]\n",
        "\n",
        "train.head(0)"
      ],
      "execution_count": 8,
      "outputs": [
        {
          "output_type": "execute_result",
          "data": {
            "text/html": [
              "<div>\n",
              "<style scoped>\n",
              "    .dataframe tbody tr th:only-of-type {\n",
              "        vertical-align: middle;\n",
              "    }\n",
              "\n",
              "    .dataframe tbody tr th {\n",
              "        vertical-align: top;\n",
              "    }\n",
              "\n",
              "    .dataframe thead th {\n",
              "        text-align: right;\n",
              "    }\n",
              "</style>\n",
              "<table border=\"1\" class=\"dataframe\">\n",
              "  <thead>\n",
              "    <tr style=\"text-align: right;\">\n",
              "      <th></th>\n",
              "      <th>Pclass</th>\n",
              "      <th>Name</th>\n",
              "      <th>Sex</th>\n",
              "      <th>Age</th>\n",
              "      <th>SibSp</th>\n",
              "      <th>Parch</th>\n",
              "      <th>Fare</th>\n",
              "      <th>Embarked</th>\n",
              "      <th>Survived</th>\n",
              "    </tr>\n",
              "  </thead>\n",
              "  <tbody>\n",
              "  </tbody>\n",
              "</table>\n",
              "</div>"
            ],
            "text/plain": [
              "Empty DataFrame\n",
              "Columns: [Pclass, Name, Sex, Age, SibSp, Parch, Fare, Embarked, Survived]\n",
              "Index: []"
            ]
          },
          "metadata": {
            "tags": []
          },
          "execution_count": 8
        }
      ]
    },
    {
      "cell_type": "code",
      "metadata": {
        "id": "UsNL2LKiCbiV",
        "colab_type": "code",
        "colab": {
          "base_uri": "https://localhost:8080/",
          "height": 184
        },
        "outputId": "4f90fb2a-df0f-4b78-c57c-3b5bacf44e7a"
      },
      "source": [
        "\n",
        "#What are the data types of the various columns.\n",
        "\n",
        "train.dtypes"
      ],
      "execution_count": 9,
      "outputs": [
        {
          "output_type": "execute_result",
          "data": {
            "text/plain": [
              "Pclass        int64\n",
              "Name         object\n",
              "Sex          object\n",
              "Age         float64\n",
              "SibSp         int64\n",
              "Parch         int64\n",
              "Fare        float64\n",
              "Embarked     object\n",
              "Survived      int64\n",
              "dtype: object"
            ]
          },
          "metadata": {
            "tags": []
          },
          "execution_count": 9
        }
      ]
    },
    {
      "cell_type": "markdown",
      "metadata": {
        "id": "RWQlgN86C2tG",
        "colab_type": "text"
      },
      "source": [
        "Which features are:\n",
        "\n",
        "Categorical ?\n",
        "Survived\n",
        "Sex\n",
        "Embarked\n",
        "\n",
        "Ordinal?\n",
        "\n",
        "Pclass.\n",
        "\n",
        "Numerical?\n",
        "\n",
        "Age (Continuous)\n",
        "Fare (Continuous)\n",
        "SibSp (Discrete)\n",
        "Parch (Discrete)"
      ]
    },
    {
      "cell_type": "code",
      "metadata": {
        "id": "pP9Mh9-OC32j",
        "colab_type": "code",
        "colab": {}
      },
      "source": [
        "\n",
        "#Convert the relevant data types to categorical\n",
        "\n",
        "# Creating a list of the numerical columns in the dataset.\n",
        "numeric = ['Age', 'Fare', 'SibSp', 'Parch']\n",
        "\n",
        "categoricals = ['Survived','Pclass','Sex','Embarked']\n",
        "\n",
        "objects = ['Name']\n",
        "\n",
        "for x in train.columns:\n",
        "   if x in numeric:\n",
        "       train[x]=pd.to_numeric(train[x])\n",
        "   elif x in categoricals:\n",
        "        train[x]=train[x].astype('category')"
      ],
      "execution_count": 0,
      "outputs": []
    },
    {
      "cell_type": "code",
      "metadata": {
        "id": "OCPLINGVDOhj",
        "colab_type": "code",
        "colab": {
          "base_uri": "https://localhost:8080/",
          "height": 184
        },
        "outputId": "3847b207-f22c-48a8-9358-490aff9b2308"
      },
      "source": [
        "#Check if features are assigned the relevant data types\n",
        "\n",
        "train.dtypes"
      ],
      "execution_count": 11,
      "outputs": [
        {
          "output_type": "execute_result",
          "data": {
            "text/plain": [
              "Pclass      category\n",
              "Name          object\n",
              "Sex         category\n",
              "Age          float64\n",
              "SibSp          int64\n",
              "Parch          int64\n",
              "Fare         float64\n",
              "Embarked    category\n",
              "Survived    category\n",
              "dtype: object"
            ]
          },
          "metadata": {
            "tags": []
          },
          "execution_count": 11
        }
      ]
    },
    {
      "cell_type": "code",
      "metadata": {
        "id": "GBDAAxugDRqS",
        "colab_type": "code",
        "colab": {
          "base_uri": "https://localhost:8080/",
          "height": 251
        },
        "outputId": "71e10c46-de3c-4e65-84b6-a782f749f7bd"
      },
      "source": [
        "#Check the info for the training dataset\n",
        "\n",
        "train.info()"
      ],
      "execution_count": 12,
      "outputs": [
        {
          "output_type": "stream",
          "text": [
            "<class 'pandas.core.frame.DataFrame'>\n",
            "RangeIndex: 891 entries, 0 to 890\n",
            "Data columns (total 9 columns):\n",
            "Pclass      891 non-null category\n",
            "Name        891 non-null object\n",
            "Sex         891 non-null category\n",
            "Age         714 non-null float64\n",
            "SibSp       891 non-null int64\n",
            "Parch       891 non-null int64\n",
            "Fare        891 non-null float64\n",
            "Embarked    889 non-null category\n",
            "Survived    891 non-null category\n",
            "dtypes: category(4), float64(2), int64(2), object(1)\n",
            "memory usage: 38.8+ KB\n"
          ],
          "name": "stdout"
        }
      ]
    },
    {
      "cell_type": "code",
      "metadata": {
        "id": "oocSXH3KDtv9",
        "colab_type": "code",
        "colab": {
          "base_uri": "https://localhost:8080/",
          "height": 286
        },
        "outputId": "ee249e25-1451-4e52-ff2d-083500188cf2"
      },
      "source": [
        "#Check the descriptive analysis of the dataset\n",
        "\n",
        "train.describe()"
      ],
      "execution_count": 13,
      "outputs": [
        {
          "output_type": "execute_result",
          "data": {
            "text/html": [
              "<div>\n",
              "<style scoped>\n",
              "    .dataframe tbody tr th:only-of-type {\n",
              "        vertical-align: middle;\n",
              "    }\n",
              "\n",
              "    .dataframe tbody tr th {\n",
              "        vertical-align: top;\n",
              "    }\n",
              "\n",
              "    .dataframe thead th {\n",
              "        text-align: right;\n",
              "    }\n",
              "</style>\n",
              "<table border=\"1\" class=\"dataframe\">\n",
              "  <thead>\n",
              "    <tr style=\"text-align: right;\">\n",
              "      <th></th>\n",
              "      <th>Age</th>\n",
              "      <th>SibSp</th>\n",
              "      <th>Parch</th>\n",
              "      <th>Fare</th>\n",
              "    </tr>\n",
              "  </thead>\n",
              "  <tbody>\n",
              "    <tr>\n",
              "      <th>count</th>\n",
              "      <td>714.000000</td>\n",
              "      <td>891.000000</td>\n",
              "      <td>891.000000</td>\n",
              "      <td>891.000000</td>\n",
              "    </tr>\n",
              "    <tr>\n",
              "      <th>mean</th>\n",
              "      <td>29.699118</td>\n",
              "      <td>0.523008</td>\n",
              "      <td>0.381594</td>\n",
              "      <td>32.204208</td>\n",
              "    </tr>\n",
              "    <tr>\n",
              "      <th>std</th>\n",
              "      <td>14.526497</td>\n",
              "      <td>1.102743</td>\n",
              "      <td>0.806057</td>\n",
              "      <td>49.693429</td>\n",
              "    </tr>\n",
              "    <tr>\n",
              "      <th>min</th>\n",
              "      <td>0.420000</td>\n",
              "      <td>0.000000</td>\n",
              "      <td>0.000000</td>\n",
              "      <td>0.000000</td>\n",
              "    </tr>\n",
              "    <tr>\n",
              "      <th>25%</th>\n",
              "      <td>20.125000</td>\n",
              "      <td>0.000000</td>\n",
              "      <td>0.000000</td>\n",
              "      <td>7.910400</td>\n",
              "    </tr>\n",
              "    <tr>\n",
              "      <th>50%</th>\n",
              "      <td>28.000000</td>\n",
              "      <td>0.000000</td>\n",
              "      <td>0.000000</td>\n",
              "      <td>14.454200</td>\n",
              "    </tr>\n",
              "    <tr>\n",
              "      <th>75%</th>\n",
              "      <td>38.000000</td>\n",
              "      <td>1.000000</td>\n",
              "      <td>0.000000</td>\n",
              "      <td>31.000000</td>\n",
              "    </tr>\n",
              "    <tr>\n",
              "      <th>max</th>\n",
              "      <td>80.000000</td>\n",
              "      <td>8.000000</td>\n",
              "      <td>6.000000</td>\n",
              "      <td>512.329200</td>\n",
              "    </tr>\n",
              "  </tbody>\n",
              "</table>\n",
              "</div>"
            ],
            "text/plain": [
              "              Age       SibSp       Parch        Fare\n",
              "count  714.000000  891.000000  891.000000  891.000000\n",
              "mean    29.699118    0.523008    0.381594   32.204208\n",
              "std     14.526497    1.102743    0.806057   49.693429\n",
              "min      0.420000    0.000000    0.000000    0.000000\n",
              "25%     20.125000    0.000000    0.000000    7.910400\n",
              "50%     28.000000    0.000000    0.000000   14.454200\n",
              "75%     38.000000    1.000000    0.000000   31.000000\n",
              "max     80.000000    8.000000    6.000000  512.329200"
            ]
          },
          "metadata": {
            "tags": []
          },
          "execution_count": 13
        }
      ]
    },
    {
      "cell_type": "markdown",
      "metadata": {
        "id": "41c2HBF-D2hq",
        "colab_type": "text"
      },
      "source": [
        "The descriptive analysis implies there may be null values in the dataset, so let's check for missing values.\n",
        "\n"
      ]
    },
    {
      "cell_type": "code",
      "metadata": {
        "id": "CMSC2bLxD3j4",
        "colab_type": "code",
        "colab": {
          "base_uri": "https://localhost:8080/",
          "height": 184
        },
        "outputId": "b348cf36-46ca-443e-ac99-5e8c721d7801"
      },
      "source": [
        "#Check for missing values\n",
        "\n",
        "train.isnull().sum()"
      ],
      "execution_count": 14,
      "outputs": [
        {
          "output_type": "execute_result",
          "data": {
            "text/plain": [
              "Pclass        0\n",
              "Name          0\n",
              "Sex           0\n",
              "Age         177\n",
              "SibSp         0\n",
              "Parch         0\n",
              "Fare          0\n",
              "Embarked      2\n",
              "Survived      0\n",
              "dtype: int64"
            ]
          },
          "metadata": {
            "tags": []
          },
          "execution_count": 14
        }
      ]
    },
    {
      "cell_type": "markdown",
      "metadata": {
        "id": "JCQ66PmPEEF1",
        "colab_type": "text"
      },
      "source": [
        "The Age column also has multiple missing values. What is the best way to deal with the missing values?\n",
        "\n"
      ]
    },
    {
      "cell_type": "code",
      "metadata": {
        "id": "MwZDl_XBEAAz",
        "colab_type": "code",
        "colab": {
          "base_uri": "https://localhost:8080/",
          "height": 67
        },
        "outputId": "0ad61367-0236-4b67-d07d-230ecd04bfd6"
      },
      "source": [
        "#Check for outliers in the Age dataset\n",
        "\n",
        "Q1 = train.Age.quantile(0.25)\n",
        "Q3 = train.Age.quantile(0.75)\n",
        "\n",
        "IQR = Q3 - Q1\n",
        "\n",
        "age_outliers = ((train.Age < Q1 - 1.5 * IQR) | (train.Age > Q3 + 1.5 * IQR))\n",
        "age_outliers.value_counts()"
      ],
      "execution_count": 15,
      "outputs": [
        {
          "output_type": "execute_result",
          "data": {
            "text/plain": [
              "False    880\n",
              "True      11\n",
              "Name: Age, dtype: int64"
            ]
          },
          "metadata": {
            "tags": []
          },
          "execution_count": 15
        }
      ]
    },
    {
      "cell_type": "code",
      "metadata": {
        "id": "kQPBE_85EVA1",
        "colab_type": "code",
        "colab": {
          "base_uri": "https://localhost:8080/",
          "height": 241
        },
        "outputId": "5b654837-ed2c-4c87-b032-a32be197d34a"
      },
      "source": [
        "\n",
        "g = sns.FacetGrid(train, col='Survived')\n",
        "g.map(plt.hist, 'Age', bins=20)"
      ],
      "execution_count": 17,
      "outputs": [
        {
          "output_type": "execute_result",
          "data": {
            "text/plain": [
              "<seaborn.axisgrid.FacetGrid at 0x7f5719ef46d8>"
            ]
          },
          "metadata": {
            "tags": []
          },
          "execution_count": 17
        },
        {
          "output_type": "display_data",
          "data": {
            "image/png": "[encoded data removed]",
            "text/plain": [
              "<Figure size 432x216 with 2 Axes>"
            ]
          },
          "metadata": {
            "tags": []
          }
        }
      ]
    },
    {
      "cell_type": "markdown",
      "metadata": {
        "id": "yvjD-HsrEeJK",
        "colab_type": "text"
      },
      "source": [
        "Due to the presence of outliers the best way to deal with the missing values is to use median.\n",
        "\n"
      ]
    },
    {
      "cell_type": "code",
      "metadata": {
        "id": "KVw3G8qkEfOx",
        "colab_type": "code",
        "colab": {}
      },
      "source": [
        "\n",
        "#Replace the null values in the Age column with the median\n",
        "\n",
        "train['Age'].fillna(train['Age'].median(), inplace = True)"
      ],
      "execution_count": 0,
      "outputs": []
    },
    {
      "cell_type": "markdown",
      "metadata": {
        "id": "ikPx9pOMEqUo",
        "colab_type": "text"
      },
      "source": [
        "The Embarked column has 2 missing values. It's best to fill them with the most common values in that column to maintain its frequency distribution."
      ]
    },
    {
      "cell_type": "code",
      "metadata": {
        "id": "oHjrmM_0Erp0",
        "colab_type": "code",
        "colab": {}
      },
      "source": [
        "#Replace the null values in the Embarked column with the mode\n",
        "\n",
        "train['Embarked'].fillna(train['Embarked'].mode()[0], inplace = True)"
      ],
      "execution_count": 0,
      "outputs": []
    },
    {
      "cell_type": "code",
      "metadata": {
        "id": "gbbl8BYwEyfU",
        "colab_type": "code",
        "colab": {
          "base_uri": "https://localhost:8080/",
          "height": 184
        },
        "outputId": "a4f33a4d-4001-42c9-f963-2491871880db"
      },
      "source": [
        "#Check for missing values \n",
        "\n",
        "train.isnull().sum()"
      ],
      "execution_count": 20,
      "outputs": [
        {
          "output_type": "execute_result",
          "data": {
            "text/plain": [
              "Pclass      0\n",
              "Name        0\n",
              "Sex         0\n",
              "Age         0\n",
              "SibSp       0\n",
              "Parch       0\n",
              "Fare        0\n",
              "Embarked    0\n",
              "Survived    0\n",
              "dtype: int64"
            ]
          },
          "metadata": {
            "tags": []
          },
          "execution_count": 20
        }
      ]
    },
    {
      "cell_type": "code",
      "metadata": {
        "id": "vI_Je8bwE-nY",
        "colab_type": "code",
        "colab": {
          "base_uri": "https://localhost:8080/",
          "height": 196
        },
        "outputId": "e2f63177-456c-4c8c-ea7f-3f5d43763289"
      },
      "source": [
        "train.head()\n"
      ],
      "execution_count": 22,
      "outputs": [
        {
          "output_type": "execute_result",
          "data": {
            "text/html": [
              "<div>\n",
              "<style scoped>\n",
              "    .dataframe tbody tr th:only-of-type {\n",
              "        vertical-align: middle;\n",
              "    }\n",
              "\n",
              "    .dataframe tbody tr th {\n",
              "        vertical-align: top;\n",
              "    }\n",
              "\n",
              "    .dataframe thead th {\n",
              "        text-align: right;\n",
              "    }\n",
              "</style>\n",
              "<table border=\"1\" class=\"dataframe\">\n",
              "  <thead>\n",
              "    <tr style=\"text-align: right;\">\n",
              "      <th></th>\n",
              "      <th>Pclass</th>\n",
              "      <th>Name</th>\n",
              "      <th>Sex</th>\n",
              "      <th>Age</th>\n",
              "      <th>SibSp</th>\n",
              "      <th>Parch</th>\n",
              "      <th>Fare</th>\n",
              "      <th>Embarked</th>\n",
              "      <th>Survived</th>\n",
              "    </tr>\n",
              "  </thead>\n",
              "  <tbody>\n",
              "    <tr>\n",
              "      <th>0</th>\n",
              "      <td>3</td>\n",
              "      <td>Braund, Mr. Owen Harris</td>\n",
              "      <td>male</td>\n",
              "      <td>22.0</td>\n",
              "      <td>1</td>\n",
              "      <td>0</td>\n",
              "      <td>7.2500</td>\n",
              "      <td>S</td>\n",
              "      <td>0</td>\n",
              "    </tr>\n",
              "    <tr>\n",
              "      <th>1</th>\n",
              "      <td>1</td>\n",
              "      <td>Cumings, Mrs. John Bradley (Florence Briggs Th...</td>\n",
              "      <td>female</td>\n",
              "      <td>38.0</td>\n",
              "      <td>1</td>\n",
              "      <td>0</td>\n",
              "      <td>71.2833</td>\n",
              "      <td>C</td>\n",
              "      <td>1</td>\n",
              "    </tr>\n",
              "    <tr>\n",
              "      <th>2</th>\n",
              "      <td>3</td>\n",
              "      <td>Heikkinen, Miss. Laina</td>\n",
              "      <td>female</td>\n",
              "      <td>26.0</td>\n",
              "      <td>0</td>\n",
              "      <td>0</td>\n",
              "      <td>7.9250</td>\n",
              "      <td>S</td>\n",
              "      <td>1</td>\n",
              "    </tr>\n",
              "    <tr>\n",
              "      <th>3</th>\n",
              "      <td>1</td>\n",
              "      <td>Futrelle, Mrs. Jacques Heath (Lily May Peel)</td>\n",
              "      <td>female</td>\n",
              "      <td>35.0</td>\n",
              "      <td>1</td>\n",
              "      <td>0</td>\n",
              "      <td>53.1000</td>\n",
              "      <td>S</td>\n",
              "      <td>1</td>\n",
              "    </tr>\n",
              "    <tr>\n",
              "      <th>4</th>\n",
              "      <td>3</td>\n",
              "      <td>Allen, Mr. William Henry</td>\n",
              "      <td>male</td>\n",
              "      <td>35.0</td>\n",
              "      <td>0</td>\n",
              "      <td>0</td>\n",
              "      <td>8.0500</td>\n",
              "      <td>S</td>\n",
              "      <td>0</td>\n",
              "    </tr>\n",
              "  </tbody>\n",
              "</table>\n",
              "</div>"
            ],
            "text/plain": [
              "  Pclass                                               Name  ... Embarked  Survived\n",
              "0      3                            Braund, Mr. Owen Harris  ...        S         0\n",
              "1      1  Cumings, Mrs. John Bradley (Florence Briggs Th...  ...        C         1\n",
              "2      3                             Heikkinen, Miss. Laina  ...        S         1\n",
              "3      1       Futrelle, Mrs. Jacques Heath (Lily May Peel)  ...        S         1\n",
              "4      3                           Allen, Mr. William Henry  ...        S         0\n",
              "\n",
              "[5 rows x 9 columns]"
            ]
          },
          "metadata": {
            "tags": []
          },
          "execution_count": 22
        }
      ]
    },
    {
      "cell_type": "markdown",
      "metadata": {
        "id": "QblPXThDFFNM",
        "colab_type": "text"
      },
      "source": [
        "# Exploratory Data Analysis\n",
        "\n",
        "Plot a Correlation Matrix to establish the significance among features.\n",
        "\n"
      ]
    },
    {
      "cell_type": "code",
      "metadata": {
        "id": "rhwdoKKDFKeq",
        "colab_type": "code",
        "colab": {
          "base_uri": "https://localhost:8080/",
          "height": 269
        },
        "outputId": "57d4269f-8975-4515-d49c-c91a9f03090f"
      },
      "source": [
        "corr = train.corr()\n",
        "\n",
        "ax = sns.heatmap(corr,square=True)"
      ],
      "execution_count": 23,
      "outputs": [
        {
          "output_type": "display_data",
          "data": {
            "image/png": "[encoded data removed]",
            "text/plain": [
              "<Figure size 432x288 with 2 Axes>"
            ]
          },
          "metadata": {
            "tags": []
          }
        }
      ]
    },
    {
      "cell_type": "markdown",
      "metadata": {
        "id": "XsIe2S7LFRdt",
        "colab_type": "text"
      },
      "source": [
        "How many passengers survived and how many died?\n",
        "\n"
      ]
    },
    {
      "cell_type": "code",
      "metadata": {
        "id": "3Yul-0EyFSIv",
        "colab_type": "code",
        "colab": {
          "base_uri": "https://localhost:8080/",
          "height": 67
        },
        "outputId": "ffd446f3-3022-4942-8104-0f18b3368fb0"
      },
      "source": [
        "train.Survived.value_counts()\n"
      ],
      "execution_count": 25,
      "outputs": [
        {
          "output_type": "execute_result",
          "data": {
            "text/plain": [
              "0    549\n",
              "1    342\n",
              "Name: Survived, dtype: int64"
            ]
          },
          "metadata": {
            "tags": []
          },
          "execution_count": 25
        }
      ]
    },
    {
      "cell_type": "markdown",
      "metadata": {
        "id": "O8G8irU-FU7V",
        "colab_type": "text"
      },
      "source": [
        ">>> 549 died while 342 survived.\n",
        "\n"
      ]
    },
    {
      "cell_type": "markdown",
      "metadata": {
        "id": "bHP8-jXwFddb",
        "colab_type": "text"
      },
      "source": [
        "# Feature Engineering\n"
      ]
    },
    {
      "cell_type": "markdown",
      "metadata": {
        "id": "Fm9S6WWxFjLC",
        "colab_type": "text"
      },
      "source": [
        "As was stated earlier women, children and the upper class were given priority to get to safety, we therefore have to establish the title of the passengers, the size of a family or whether the passenger was onboard alone.\n",
        "\n",
        "It is difficult to establish any information on a passenger based on their names, some are nicknames. So we try establish the title of each passenger."
      ]
    },
    {
      "cell_type": "code",
      "metadata": {
        "id": "UhVbp2IIFccY",
        "colab_type": "code",
        "colab": {}
      },
      "source": [
        "#Let's establish the title of each passenger\n",
        "\n",
        "for x in train:\n",
        "  train['Title'] = train.Name.str.extract(' ([A-Za-z]+)\\.', expand=False)"
      ],
      "execution_count": 0,
      "outputs": []
    },
    {
      "cell_type": "code",
      "metadata": {
        "id": "olh3QT97Fo1s",
        "colab_type": "code",
        "colab": {
          "base_uri": "https://localhost:8080/",
          "height": 67
        },
        "outputId": "52c28d82-a85f-41de-83fc-c7fa450e7d26"
      },
      "source": [
        "\n",
        "#What are the titles extracted from the names ?\n",
        "\n",
        "train.Title.unique()"
      ],
      "execution_count": 30,
      "outputs": [
        {
          "output_type": "execute_result",
          "data": {
            "text/plain": [
              "array(['Mr', 'Mrs', 'Miss', 'Master', 'Don', 'Rev', 'Dr', 'Mme', 'Ms',\n",
              "       'Major', 'Lady', 'Sir', 'Mlle', 'Col', 'Capt', 'Countess',\n",
              "       'Jonkheer'], dtype=object)"
            ]
          },
          "metadata": {
            "tags": []
          },
          "execution_count": 30
        }
      ]
    },
    {
      "cell_type": "markdown",
      "metadata": {
        "id": "8JTfShVoFxvA",
        "colab_type": "text"
      },
      "source": [
        "The titles are many in number and usually we just need to establish if it's a Miss, Mrs, Mr or Master and every other title can be referred to as 'other'.\n",
        "\n"
      ]
    },
    {
      "cell_type": "code",
      "metadata": {
        "id": "DMYLaPhyFuPe",
        "colab_type": "code",
        "colab": {}
      },
      "source": [
        "for x in train:\n",
        "    train['Title'] = train['Title'].replace(['Lady', 'Countess','Capt', 'Col','Don', 'Dr', 'Major', 'Rev', 'Sir', 'Jonkheer', 'Dona'], 'Other')\n",
        "\n",
        "    train['Title'] = train['Title'].replace('Mlle', 'Miss')\n",
        "    train['Title'] = train['Title'].replace('Ms', 'Miss')\n",
        "    train['Title'] = train['Title'].replace('Mme', 'Mrs')"
      ],
      "execution_count": 0,
      "outputs": []
    },
    {
      "cell_type": "code",
      "metadata": {
        "id": "xnQJ91EnGBW5",
        "colab_type": "code",
        "colab": {
          "base_uri": "https://localhost:8080/",
          "height": 33
        },
        "outputId": "a6b70b83-5c1c-4b35-fdd9-611d66b0bd2d"
      },
      "source": [
        "\n",
        "#What are the titles extracted from the names?\n",
        "\n",
        "train.Title.unique()"
      ],
      "execution_count": 33,
      "outputs": [
        {
          "output_type": "execute_result",
          "data": {
            "text/plain": [
              "array(['Mr', 'Mrs', 'Miss', 'Master', 'Other'], dtype=object)"
            ]
          },
          "metadata": {
            "tags": []
          },
          "execution_count": 33
        }
      ]
    },
    {
      "cell_type": "markdown",
      "metadata": {
        "id": "qmpFaf_JGEPj",
        "colab_type": "text"
      },
      "source": [
        "Now we can safely drop the Name column.\n",
        "\n"
      ]
    },
    {
      "cell_type": "code",
      "metadata": {
        "id": "5lK5NrOAGFS5",
        "colab_type": "code",
        "colab": {}
      },
      "source": [
        "column_to_drop = ['Name']\n",
        "\n",
        "train.drop(column_to_drop, axis=1, inplace = True)"
      ],
      "execution_count": 0,
      "outputs": []
    },
    {
      "cell_type": "code",
      "metadata": {
        "id": "i3ifjGrgGTUn",
        "colab_type": "code",
        "colab": {
          "base_uri": "https://localhost:8080/",
          "height": 196
        },
        "outputId": "e13a0549-3302-4309-8722-e5ee00e12006"
      },
      "source": [
        "train.head()\n"
      ],
      "execution_count": 35,
      "outputs": [
        {
          "output_type": "execute_result",
          "data": {
            "text/html": [
              "<div>\n",
              "<style scoped>\n",
              "    .dataframe tbody tr th:only-of-type {\n",
              "        vertical-align: middle;\n",
              "    }\n",
              "\n",
              "    .dataframe tbody tr th {\n",
              "        vertical-align: top;\n",
              "    }\n",
              "\n",
              "    .dataframe thead th {\n",
              "        text-align: right;\n",
              "    }\n",
              "</style>\n",
              "<table border=\"1\" class=\"dataframe\">\n",
              "  <thead>\n",
              "    <tr style=\"text-align: right;\">\n",
              "      <th></th>\n",
              "      <th>Pclass</th>\n",
              "      <th>Sex</th>\n",
              "      <th>Age</th>\n",
              "      <th>SibSp</th>\n",
              "      <th>Parch</th>\n",
              "      <th>Fare</th>\n",
              "      <th>Embarked</th>\n",
              "      <th>Survived</th>\n",
              "      <th>Title</th>\n",
              "    </tr>\n",
              "  </thead>\n",
              "  <tbody>\n",
              "    <tr>\n",
              "      <th>0</th>\n",
              "      <td>3</td>\n",
              "      <td>male</td>\n",
              "      <td>22.0</td>\n",
              "      <td>1</td>\n",
              "      <td>0</td>\n",
              "      <td>7.2500</td>\n",
              "      <td>S</td>\n",
              "      <td>0</td>\n",
              "      <td>Mr</td>\n",
              "    </tr>\n",
              "    <tr>\n",
              "      <th>1</th>\n",
              "      <td>1</td>\n",
              "      <td>female</td>\n",
              "      <td>38.0</td>\n",
              "      <td>1</td>\n",
              "      <td>0</td>\n",
              "      <td>71.2833</td>\n",
              "      <td>C</td>\n",
              "      <td>1</td>\n",
              "      <td>Mrs</td>\n",
              "    </tr>\n",
              "    <tr>\n",
              "      <th>2</th>\n",
              "      <td>3</td>\n",
              "      <td>female</td>\n",
              "      <td>26.0</td>\n",
              "      <td>0</td>\n",
              "      <td>0</td>\n",
              "      <td>7.9250</td>\n",
              "      <td>S</td>\n",
              "      <td>1</td>\n",
              "      <td>Miss</td>\n",
              "    </tr>\n",
              "    <tr>\n",
              "      <th>3</th>\n",
              "      <td>1</td>\n",
              "      <td>female</td>\n",
              "      <td>35.0</td>\n",
              "      <td>1</td>\n",
              "      <td>0</td>\n",
              "      <td>53.1000</td>\n",
              "      <td>S</td>\n",
              "      <td>1</td>\n",
              "      <td>Mrs</td>\n",
              "    </tr>\n",
              "    <tr>\n",
              "      <th>4</th>\n",
              "      <td>3</td>\n",
              "      <td>male</td>\n",
              "      <td>35.0</td>\n",
              "      <td>0</td>\n",
              "      <td>0</td>\n",
              "      <td>8.0500</td>\n",
              "      <td>S</td>\n",
              "      <td>0</td>\n",
              "      <td>Mr</td>\n",
              "    </tr>\n",
              "  </tbody>\n",
              "</table>\n",
              "</div>"
            ],
            "text/plain": [
              "  Pclass     Sex   Age  SibSp  Parch     Fare Embarked Survived Title\n",
              "0      3    male  22.0      1      0   7.2500        S        0    Mr\n",
              "1      1  female  38.0      1      0  71.2833        C        1   Mrs\n",
              "2      3  female  26.0      0      0   7.9250        S        1  Miss\n",
              "3      1  female  35.0      1      0  53.1000        S        1   Mrs\n",
              "4      3    male  35.0      0      0   8.0500        S        0    Mr"
            ]
          },
          "metadata": {
            "tags": []
          },
          "execution_count": 35
        }
      ]
    },
    {
      "cell_type": "markdown",
      "metadata": {
        "id": "ujZdudE1GWxW",
        "colab_type": "text"
      },
      "source": [
        "\n",
        "We can create a new feature for FamilySize which combines Parch and SibSp. This will enable us to drop Parch and SibSp from our datasets."
      ]
    },
    {
      "cell_type": "code",
      "metadata": {
        "id": "lUpX1vg6GUCW",
        "colab_type": "code",
        "colab": {}
      },
      "source": [
        "\n",
        "for x in train:\n",
        "    train['FamSize'] = train['SibSp'] + train['Parch'] + 1"
      ],
      "execution_count": 0,
      "outputs": []
    },
    {
      "cell_type": "code",
      "metadata": {
        "id": "n16UyYB7GxQP",
        "colab_type": "code",
        "colab": {
          "base_uri": "https://localhost:8080/",
          "height": 196
        },
        "outputId": "481fc287-5d0c-4b82-bbde-f25671a0fb83"
      },
      "source": [
        "train.head()"
      ],
      "execution_count": 37,
      "outputs": [
        {
          "output_type": "execute_result",
          "data": {
            "text/html": [
              "<div>\n",
              "<style scoped>\n",
              "    .dataframe tbody tr th:only-of-type {\n",
              "        vertical-align: middle;\n",
              "    }\n",
              "\n",
              "    .dataframe tbody tr th {\n",
              "        vertical-align: top;\n",
              "    }\n",
              "\n",
              "    .dataframe thead th {\n",
              "        text-align: right;\n",
              "    }\n",
              "</style>\n",
              "<table border=\"1\" class=\"dataframe\">\n",
              "  <thead>\n",
              "    <tr style=\"text-align: right;\">\n",
              "      <th></th>\n",
              "      <th>Pclass</th>\n",
              "      <th>Sex</th>\n",
              "      <th>Age</th>\n",
              "      <th>SibSp</th>\n",
              "      <th>Parch</th>\n",
              "      <th>Fare</th>\n",
              "      <th>Embarked</th>\n",
              "      <th>Survived</th>\n",
              "      <th>Title</th>\n",
              "      <th>FamSize</th>\n",
              "    </tr>\n",
              "  </thead>\n",
              "  <tbody>\n",
              "    <tr>\n",
              "      <th>0</th>\n",
              "      <td>3</td>\n",
              "      <td>male</td>\n",
              "      <td>22.0</td>\n",
              "      <td>1</td>\n",
              "      <td>0</td>\n",
              "      <td>7.2500</td>\n",
              "      <td>S</td>\n",
              "      <td>0</td>\n",
              "      <td>Mr</td>\n",
              "      <td>2</td>\n",
              "    </tr>\n",
              "    <tr>\n",
              "      <th>1</th>\n",
              "      <td>1</td>\n",
              "      <td>female</td>\n",
              "      <td>38.0</td>\n",
              "      <td>1</td>\n",
              "      <td>0</td>\n",
              "      <td>71.2833</td>\n",
              "      <td>C</td>\n",
              "      <td>1</td>\n",
              "      <td>Mrs</td>\n",
              "      <td>2</td>\n",
              "    </tr>\n",
              "    <tr>\n",
              "      <th>2</th>\n",
              "      <td>3</td>\n",
              "      <td>female</td>\n",
              "      <td>26.0</td>\n",
              "      <td>0</td>\n",
              "      <td>0</td>\n",
              "      <td>7.9250</td>\n",
              "      <td>S</td>\n",
              "      <td>1</td>\n",
              "      <td>Miss</td>\n",
              "      <td>1</td>\n",
              "    </tr>\n",
              "    <tr>\n",
              "      <th>3</th>\n",
              "      <td>1</td>\n",
              "      <td>female</td>\n",
              "      <td>35.0</td>\n",
              "      <td>1</td>\n",
              "      <td>0</td>\n",
              "      <td>53.1000</td>\n",
              "      <td>S</td>\n",
              "      <td>1</td>\n",
              "      <td>Mrs</td>\n",
              "      <td>2</td>\n",
              "    </tr>\n",
              "    <tr>\n",
              "      <th>4</th>\n",
              "      <td>3</td>\n",
              "      <td>male</td>\n",
              "      <td>35.0</td>\n",
              "      <td>0</td>\n",
              "      <td>0</td>\n",
              "      <td>8.0500</td>\n",
              "      <td>S</td>\n",
              "      <td>0</td>\n",
              "      <td>Mr</td>\n",
              "      <td>1</td>\n",
              "    </tr>\n",
              "  </tbody>\n",
              "</table>\n",
              "</div>"
            ],
            "text/plain": [
              "  Pclass     Sex   Age  SibSp  Parch     Fare Embarked Survived Title  FamSize\n",
              "0      3    male  22.0      1      0   7.2500        S        0    Mr        2\n",
              "1      1  female  38.0      1      0  71.2833        C        1   Mrs        2\n",
              "2      3  female  26.0      0      0   7.9250        S        1  Miss        1\n",
              "3      1  female  35.0      1      0  53.1000        S        1   Mrs        2\n",
              "4      3    male  35.0      0      0   8.0500        S        0    Mr        1"
            ]
          },
          "metadata": {
            "tags": []
          },
          "execution_count": 37
        }
      ]
    },
    {
      "cell_type": "markdown",
      "metadata": {
        "id": "tSk-YcYGHERn",
        "colab_type": "text"
      },
      "source": [
        "Was the passenger traveling alone or with a family? If the family size is 1 then they are probably alone, if there are more then the passenger is essentially not alone."
      ]
    },
    {
      "cell_type": "code",
      "metadata": {
        "id": "CXyrqDzyG3kn",
        "colab_type": "code",
        "colab": {}
      },
      "source": [
        "\n",
        "for x in train:\n",
        "    train['Alone?'] = 0\n",
        "    train.loc[train['FamSize'] == 1, 'Alone?'] = 1"
      ],
      "execution_count": 0,
      "outputs": []
    },
    {
      "cell_type": "code",
      "metadata": {
        "id": "5qBuaXBcG7NP",
        "colab_type": "code",
        "colab": {}
      },
      "source": [
        "train['Alone?'].unique()\n"
      ],
      "execution_count": 0,
      "outputs": []
    },
    {
      "cell_type": "markdown",
      "metadata": {
        "id": "_LbFTJPhG9-G",
        "colab_type": "text"
      },
      "source": [
        "Essentially if Alone = 0 they are not alone but if Alone = 1 they are alone.\n",
        "\n"
      ]
    },
    {
      "cell_type": "code",
      "metadata": {
        "id": "RoIfA030HL7X",
        "colab_type": "code",
        "colab": {
          "base_uri": "https://localhost:8080/",
          "height": 316
        },
        "outputId": "e098c7e1-f597-4a76-9dda-3b127804f8bf"
      },
      "source": [
        "train.head(9)"
      ],
      "execution_count": 39,
      "outputs": [
        {
          "output_type": "execute_result",
          "data": {
            "text/html": [
              "<div>\n",
              "<style scoped>\n",
              "    .dataframe tbody tr th:only-of-type {\n",
              "        vertical-align: middle;\n",
              "    }\n",
              "\n",
              "    .dataframe tbody tr th {\n",
              "        vertical-align: top;\n",
              "    }\n",
              "\n",
              "    .dataframe thead th {\n",
              "        text-align: right;\n",
              "    }\n",
              "</style>\n",
              "<table border=\"1\" class=\"dataframe\">\n",
              "  <thead>\n",
              "    <tr style=\"text-align: right;\">\n",
              "      <th></th>\n",
              "      <th>Pclass</th>\n",
              "      <th>Sex</th>\n",
              "      <th>Age</th>\n",
              "      <th>SibSp</th>\n",
              "      <th>Parch</th>\n",
              "      <th>Fare</th>\n",
              "      <th>Embarked</th>\n",
              "      <th>Survived</th>\n",
              "      <th>Title</th>\n",
              "      <th>FamSize</th>\n",
              "      <th>Alone?</th>\n",
              "    </tr>\n",
              "  </thead>\n",
              "  <tbody>\n",
              "    <tr>\n",
              "      <th>0</th>\n",
              "      <td>3</td>\n",
              "      <td>male</td>\n",
              "      <td>22.0</td>\n",
              "      <td>1</td>\n",
              "      <td>0</td>\n",
              "      <td>7.2500</td>\n",
              "      <td>S</td>\n",
              "      <td>0</td>\n",
              "      <td>Mr</td>\n",
              "      <td>2</td>\n",
              "      <td>0</td>\n",
              "    </tr>\n",
              "    <tr>\n",
              "      <th>1</th>\n",
              "      <td>1</td>\n",
              "      <td>female</td>\n",
              "      <td>38.0</td>\n",
              "      <td>1</td>\n",
              "      <td>0</td>\n",
              "      <td>71.2833</td>\n",
              "      <td>C</td>\n",
              "      <td>1</td>\n",
              "      <td>Mrs</td>\n",
              "      <td>2</td>\n",
              "      <td>0</td>\n",
              "    </tr>\n",
              "    <tr>\n",
              "      <th>2</th>\n",
              "      <td>3</td>\n",
              "      <td>female</td>\n",
              "      <td>26.0</td>\n",
              "      <td>0</td>\n",
              "      <td>0</td>\n",
              "      <td>7.9250</td>\n",
              "      <td>S</td>\n",
              "      <td>1</td>\n",
              "      <td>Miss</td>\n",
              "      <td>1</td>\n",
              "      <td>1</td>\n",
              "    </tr>\n",
              "    <tr>\n",
              "      <th>3</th>\n",
              "      <td>1</td>\n",
              "      <td>female</td>\n",
              "      <td>35.0</td>\n",
              "      <td>1</td>\n",
              "      <td>0</td>\n",
              "      <td>53.1000</td>\n",
              "      <td>S</td>\n",
              "      <td>1</td>\n",
              "      <td>Mrs</td>\n",
              "      <td>2</td>\n",
              "      <td>0</td>\n",
              "    </tr>\n",
              "    <tr>\n",
              "      <th>4</th>\n",
              "      <td>3</td>\n",
              "      <td>male</td>\n",
              "      <td>35.0</td>\n",
              "      <td>0</td>\n",
              "      <td>0</td>\n",
              "      <td>8.0500</td>\n",
              "      <td>S</td>\n",
              "      <td>0</td>\n",
              "      <td>Mr</td>\n",
              "      <td>1</td>\n",
              "      <td>1</td>\n",
              "    </tr>\n",
              "    <tr>\n",
              "      <th>5</th>\n",
              "      <td>3</td>\n",
              "      <td>male</td>\n",
              "      <td>28.0</td>\n",
              "      <td>0</td>\n",
              "      <td>0</td>\n",
              "      <td>8.4583</td>\n",
              "      <td>Q</td>\n",
              "      <td>0</td>\n",
              "      <td>Mr</td>\n",
              "      <td>1</td>\n",
              "      <td>1</td>\n",
              "    </tr>\n",
              "    <tr>\n",
              "      <th>6</th>\n",
              "      <td>1</td>\n",
              "      <td>male</td>\n",
              "      <td>54.0</td>\n",
              "      <td>0</td>\n",
              "      <td>0</td>\n",
              "      <td>51.8625</td>\n",
              "      <td>S</td>\n",
              "      <td>0</td>\n",
              "      <td>Mr</td>\n",
              "      <td>1</td>\n",
              "      <td>1</td>\n",
              "    </tr>\n",
              "    <tr>\n",
              "      <th>7</th>\n",
              "      <td>3</td>\n",
              "      <td>male</td>\n",
              "      <td>2.0</td>\n",
              "      <td>3</td>\n",
              "      <td>1</td>\n",
              "      <td>21.0750</td>\n",
              "      <td>S</td>\n",
              "      <td>0</td>\n",
              "      <td>Master</td>\n",
              "      <td>5</td>\n",
              "      <td>0</td>\n",
              "    </tr>\n",
              "    <tr>\n",
              "      <th>8</th>\n",
              "      <td>3</td>\n",
              "      <td>female</td>\n",
              "      <td>27.0</td>\n",
              "      <td>0</td>\n",
              "      <td>2</td>\n",
              "      <td>11.1333</td>\n",
              "      <td>S</td>\n",
              "      <td>1</td>\n",
              "      <td>Mrs</td>\n",
              "      <td>3</td>\n",
              "      <td>0</td>\n",
              "    </tr>\n",
              "  </tbody>\n",
              "</table>\n",
              "</div>"
            ],
            "text/plain": [
              "  Pclass     Sex   Age  SibSp  Parch  ...  Embarked Survived   Title FamSize  Alone?\n",
              "0      3    male  22.0      1      0  ...         S        0      Mr       2       0\n",
              "1      1  female  38.0      1      0  ...         C        1     Mrs       2       0\n",
              "2      3  female  26.0      0      0  ...         S        1    Miss       1       1\n",
              "3      1  female  35.0      1      0  ...         S        1     Mrs       2       0\n",
              "4      3    male  35.0      0      0  ...         S        0      Mr       1       1\n",
              "5      3    male  28.0      0      0  ...         Q        0      Mr       1       1\n",
              "6      1    male  54.0      0      0  ...         S        0      Mr       1       1\n",
              "7      3    male   2.0      3      1  ...         S        0  Master       5       0\n",
              "8      3  female  27.0      0      2  ...         S        1     Mrs       3       0\n",
              "\n",
              "[9 rows x 11 columns]"
            ]
          },
          "metadata": {
            "tags": []
          },
          "execution_count": 39
        }
      ]
    },
    {
      "cell_type": "markdown",
      "metadata": {
        "id": "Sxs0IaoQHQ_o",
        "colab_type": "text"
      },
      "source": [
        "Thereafter we can drop the colums 'SibSp','Parch' and 'FamSize'\n",
        "\n"
      ]
    },
    {
      "cell_type": "code",
      "metadata": {
        "id": "UcHAmxATHSCM",
        "colab_type": "code",
        "colab": {}
      },
      "source": [
        "train = train.drop(['Parch', 'SibSp', 'FamSize'], axis=1)\n"
      ],
      "execution_count": 0,
      "outputs": []
    },
    {
      "cell_type": "code",
      "metadata": {
        "id": "KiluJExwHWtx",
        "colab_type": "code",
        "colab": {}
      },
      "source": [
        "train.head()"
      ],
      "execution_count": 0,
      "outputs": []
    },
    {
      "cell_type": "code",
      "metadata": {
        "id": "Uj4qqmvOHh3f",
        "colab_type": "code",
        "colab": {}
      },
      "source": [
        "categoricals = ['Sex','Embarked','Title']\n",
        "\n",
        "train = pd.get_dummies(train, columns=['Sex','Embarked','Title'])"
      ],
      "execution_count": 0,
      "outputs": []
    },
    {
      "cell_type": "code",
      "metadata": {
        "id": "sOAs9RMnHikn",
        "colab_type": "code",
        "colab": {
          "base_uri": "https://localhost:8080/",
          "height": 216
        },
        "outputId": "89d2d4dd-d147-45ce-af2e-fbc434fe27bd"
      },
      "source": [
        "#titanic = train[['Pclass','Age','Fare','Alone?','Sex_female','Sex_male','Embarked_C','Embarked_Q','Embarked_S','Title_Master','Title_Miss','Title_Mr','Title_Mrs','Title_Other','Survived']]\n",
        "\n",
        "train.head()"
      ],
      "execution_count": 44,
      "outputs": [
        {
          "output_type": "execute_result",
          "data": {
            "text/html": [
              "<div>\n",
              "<style scoped>\n",
              "    .dataframe tbody tr th:only-of-type {\n",
              "        vertical-align: middle;\n",
              "    }\n",
              "\n",
              "    .dataframe tbody tr th {\n",
              "        vertical-align: top;\n",
              "    }\n",
              "\n",
              "    .dataframe thead th {\n",
              "        text-align: right;\n",
              "    }\n",
              "</style>\n",
              "<table border=\"1\" class=\"dataframe\">\n",
              "  <thead>\n",
              "    <tr style=\"text-align: right;\">\n",
              "      <th></th>\n",
              "      <th>Pclass</th>\n",
              "      <th>Age</th>\n",
              "      <th>Fare</th>\n",
              "      <th>Survived</th>\n",
              "      <th>Alone?</th>\n",
              "      <th>Sex_female</th>\n",
              "      <th>Sex_male</th>\n",
              "      <th>Embarked_C</th>\n",
              "      <th>Embarked_Q</th>\n",
              "      <th>Embarked_S</th>\n",
              "      <th>Title_Master</th>\n",
              "      <th>Title_Miss</th>\n",
              "      <th>Title_Mr</th>\n",
              "      <th>Title_Mrs</th>\n",
              "      <th>Title_Other</th>\n",
              "    </tr>\n",
              "  </thead>\n",
              "  <tbody>\n",
              "    <tr>\n",
              "      <th>0</th>\n",
              "      <td>3</td>\n",
              "      <td>22.0</td>\n",
              "      <td>7.2500</td>\n",
              "      <td>0</td>\n",
              "      <td>0</td>\n",
              "      <td>0</td>\n",
              "      <td>1</td>\n",
              "      <td>0</td>\n",
              "      <td>0</td>\n",
              "      <td>1</td>\n",
              "      <td>0</td>\n",
              "      <td>0</td>\n",
              "      <td>1</td>\n",
              "      <td>0</td>\n",
              "      <td>0</td>\n",
              "    </tr>\n",
              "    <tr>\n",
              "      <th>1</th>\n",
              "      <td>1</td>\n",
              "      <td>38.0</td>\n",
              "      <td>71.2833</td>\n",
              "      <td>1</td>\n",
              "      <td>0</td>\n",
              "      <td>1</td>\n",
              "      <td>0</td>\n",
              "      <td>1</td>\n",
              "      <td>0</td>\n",
              "      <td>0</td>\n",
              "      <td>0</td>\n",
              "      <td>0</td>\n",
              "      <td>0</td>\n",
              "      <td>1</td>\n",
              "      <td>0</td>\n",
              "    </tr>\n",
              "    <tr>\n",
              "      <th>2</th>\n",
              "      <td>3</td>\n",
              "      <td>26.0</td>\n",
              "      <td>7.9250</td>\n",
              "      <td>1</td>\n",
              "      <td>1</td>\n",
              "      <td>1</td>\n",
              "      <td>0</td>\n",
              "      <td>0</td>\n",
              "      <td>0</td>\n",
              "      <td>1</td>\n",
              "      <td>0</td>\n",
              "      <td>1</td>\n",
              "      <td>0</td>\n",
              "      <td>0</td>\n",
              "      <td>0</td>\n",
              "    </tr>\n",
              "    <tr>\n",
              "      <th>3</th>\n",
              "      <td>1</td>\n",
              "      <td>35.0</td>\n",
              "      <td>53.1000</td>\n",
              "      <td>1</td>\n",
              "      <td>0</td>\n",
              "      <td>1</td>\n",
              "      <td>0</td>\n",
              "      <td>0</td>\n",
              "      <td>0</td>\n",
              "      <td>1</td>\n",
              "      <td>0</td>\n",
              "      <td>0</td>\n",
              "      <td>0</td>\n",
              "      <td>1</td>\n",
              "      <td>0</td>\n",
              "    </tr>\n",
              "    <tr>\n",
              "      <th>4</th>\n",
              "      <td>3</td>\n",
              "      <td>35.0</td>\n",
              "      <td>8.0500</td>\n",
              "      <td>0</td>\n",
              "      <td>1</td>\n",
              "      <td>0</td>\n",
              "      <td>1</td>\n",
              "      <td>0</td>\n",
              "      <td>0</td>\n",
              "      <td>1</td>\n",
              "      <td>0</td>\n",
              "      <td>0</td>\n",
              "      <td>1</td>\n",
              "      <td>0</td>\n",
              "      <td>0</td>\n",
              "    </tr>\n",
              "  </tbody>\n",
              "</table>\n",
              "</div>"
            ],
            "text/plain": [
              "  Pclass   Age     Fare Survived  ...  Title_Miss  Title_Mr  Title_Mrs  Title_Other\n",
              "0      3  22.0   7.2500        0  ...           0         1          0            0\n",
              "1      1  38.0  71.2833        1  ...           0         0          1            0\n",
              "2      3  26.0   7.9250        1  ...           1         0          0            0\n",
              "3      1  35.0  53.1000        1  ...           0         0          1            0\n",
              "4      3  35.0   8.0500        0  ...           0         1          0            0\n",
              "\n",
              "[5 rows x 15 columns]"
            ]
          },
          "metadata": {
            "tags": []
          },
          "execution_count": 44
        }
      ]
    },
    {
      "cell_type": "markdown",
      "metadata": {
        "id": "HPf1TxfNIXMN",
        "colab_type": "text"
      },
      "source": [
        "We must consider the age column, if a passenger was a child they had a higher chance of survival, therefore we must categorize a passenger as adult(1) or child(0) in a new Adult column."
      ]
    },
    {
      "cell_type": "code",
      "metadata": {
        "id": "AKMEvBT7IYLv",
        "colab_type": "code",
        "colab": {}
      },
      "source": [
        "train[\"Adult\"] = 0\n",
        "\n",
        "train[\"Adult\"][train[\"Age\"] >= 18] = 1\n",
        "\n",
        "#Thereafter drop the age column\n",
        "\n",
        "train = train.drop(['Age'], axis=1)"
      ],
      "execution_count": 0,
      "outputs": []
    },
    {
      "cell_type": "code",
      "metadata": {
        "id": "o2-9UTwwIax_",
        "colab_type": "code",
        "colab": {}
      },
      "source": [
        "\n",
        "train = train[['Pclass','Adult','Fare','Alone?','Sex_female','Sex_male','Embarked_C','Embarked_Q','Embarked_S','Title_Master','Title_Miss','Title_Mr','Title_Mrs','Title_Other','Survived']]"
      ],
      "execution_count": 0,
      "outputs": []
    },
    {
      "cell_type": "code",
      "metadata": {
        "id": "_ofvSVI2IgCf",
        "colab_type": "code",
        "colab": {
          "base_uri": "https://localhost:8080/",
          "height": 216
        },
        "outputId": "3e521a18-b695-4f02-f6aa-457686161f00"
      },
      "source": [
        "train.head()\n"
      ],
      "execution_count": 48,
      "outputs": [
        {
          "output_type": "execute_result",
          "data": {
            "text/html": [
              "<div>\n",
              "<style scoped>\n",
              "    .dataframe tbody tr th:only-of-type {\n",
              "        vertical-align: middle;\n",
              "    }\n",
              "\n",
              "    .dataframe tbody tr th {\n",
              "        vertical-align: top;\n",
              "    }\n",
              "\n",
              "    .dataframe thead th {\n",
              "        text-align: right;\n",
              "    }\n",
              "</style>\n",
              "<table border=\"1\" class=\"dataframe\">\n",
              "  <thead>\n",
              "    <tr style=\"text-align: right;\">\n",
              "      <th></th>\n",
              "      <th>Pclass</th>\n",
              "      <th>Adult</th>\n",
              "      <th>Fare</th>\n",
              "      <th>Alone?</th>\n",
              "      <th>Sex_female</th>\n",
              "      <th>Sex_male</th>\n",
              "      <th>Embarked_C</th>\n",
              "      <th>Embarked_Q</th>\n",
              "      <th>Embarked_S</th>\n",
              "      <th>Title_Master</th>\n",
              "      <th>Title_Miss</th>\n",
              "      <th>Title_Mr</th>\n",
              "      <th>Title_Mrs</th>\n",
              "      <th>Title_Other</th>\n",
              "      <th>Survived</th>\n",
              "    </tr>\n",
              "  </thead>\n",
              "  <tbody>\n",
              "    <tr>\n",
              "      <th>0</th>\n",
              "      <td>3</td>\n",
              "      <td>1</td>\n",
              "      <td>7.2500</td>\n",
              "      <td>0</td>\n",
              "      <td>0</td>\n",
              "      <td>1</td>\n",
              "      <td>0</td>\n",
              "      <td>0</td>\n",
              "      <td>1</td>\n",
              "      <td>0</td>\n",
              "      <td>0</td>\n",
              "      <td>1</td>\n",
              "      <td>0</td>\n",
              "      <td>0</td>\n",
              "      <td>0</td>\n",
              "    </tr>\n",
              "    <tr>\n",
              "      <th>1</th>\n",
              "      <td>1</td>\n",
              "      <td>1</td>\n",
              "      <td>71.2833</td>\n",
              "      <td>0</td>\n",
              "      <td>1</td>\n",
              "      <td>0</td>\n",
              "      <td>1</td>\n",
              "      <td>0</td>\n",
              "      <td>0</td>\n",
              "      <td>0</td>\n",
              "      <td>0</td>\n",
              "      <td>0</td>\n",
              "      <td>1</td>\n",
              "      <td>0</td>\n",
              "      <td>1</td>\n",
              "    </tr>\n",
              "    <tr>\n",
              "      <th>2</th>\n",
              "      <td>3</td>\n",
              "      <td>1</td>\n",
              "      <td>7.9250</td>\n",
              "      <td>1</td>\n",
              "      <td>1</td>\n",
              "      <td>0</td>\n",
              "      <td>0</td>\n",
              "      <td>0</td>\n",
              "      <td>1</td>\n",
              "      <td>0</td>\n",
              "      <td>1</td>\n",
              "      <td>0</td>\n",
              "      <td>0</td>\n",
              "      <td>0</td>\n",
              "      <td>1</td>\n",
              "    </tr>\n",
              "    <tr>\n",
              "      <th>3</th>\n",
              "      <td>1</td>\n",
              "      <td>1</td>\n",
              "      <td>53.1000</td>\n",
              "      <td>0</td>\n",
              "      <td>1</td>\n",
              "      <td>0</td>\n",
              "      <td>0</td>\n",
              "      <td>0</td>\n",
              "      <td>1</td>\n",
              "      <td>0</td>\n",
              "      <td>0</td>\n",
              "      <td>0</td>\n",
              "      <td>1</td>\n",
              "      <td>0</td>\n",
              "      <td>1</td>\n",
              "    </tr>\n",
              "    <tr>\n",
              "      <th>4</th>\n",
              "      <td>3</td>\n",
              "      <td>1</td>\n",
              "      <td>8.0500</td>\n",
              "      <td>1</td>\n",
              "      <td>0</td>\n",
              "      <td>1</td>\n",
              "      <td>0</td>\n",
              "      <td>0</td>\n",
              "      <td>1</td>\n",
              "      <td>0</td>\n",
              "      <td>0</td>\n",
              "      <td>1</td>\n",
              "      <td>0</td>\n",
              "      <td>0</td>\n",
              "      <td>0</td>\n",
              "    </tr>\n",
              "  </tbody>\n",
              "</table>\n",
              "</div>"
            ],
            "text/plain": [
              "  Pclass  Adult     Fare  Alone?  ...  Title_Mr  Title_Mrs  Title_Other  Survived\n",
              "0      3      1   7.2500       0  ...         1          0            0         0\n",
              "1      1      1  71.2833       0  ...         0          1            0         1\n",
              "2      3      1   7.9250       1  ...         0          0            0         1\n",
              "3      1      1  53.1000       0  ...         0          1            0         1\n",
              "4      3      1   8.0500       1  ...         1          0            0         0\n",
              "\n",
              "[5 rows x 15 columns]"
            ]
          },
          "metadata": {
            "tags": []
          },
          "execution_count": 48
        }
      ]
    },
    {
      "cell_type": "markdown",
      "metadata": {
        "id": "l34eYYPwIjmP",
        "colab_type": "text"
      },
      "source": [
        "Split the dataset into train and test sets.\n",
        "\n"
      ]
    },
    {
      "cell_type": "code",
      "metadata": {
        "id": "t0deDPwLIkkU",
        "colab_type": "code",
        "colab": {}
      },
      "source": [
        "\n",
        "#Define our X and y\n",
        "\n",
        "X = train.iloc[:, :-1]\n",
        "y = train.iloc[:,-1]"
      ],
      "execution_count": 0,
      "outputs": []
    },
    {
      "cell_type": "code",
      "metadata": {
        "id": "ipTDBbzrIqvj",
        "colab_type": "code",
        "colab": {
          "base_uri": "https://localhost:8080/",
          "height": 268
        },
        "outputId": "81c47fd6-d505-4649-e20c-334d8c329e6f"
      },
      "source": [
        "print(X.head())\n",
        "\n",
        "print(y.head())"
      ],
      "execution_count": 50,
      "outputs": [
        {
          "output_type": "stream",
          "text": [
            "  Pclass  Adult     Fare  Alone?  ...  Title_Miss  Title_Mr  Title_Mrs  Title_Other\n",
            "0      3      1   7.2500       0  ...           0         1          0            0\n",
            "1      1      1  71.2833       0  ...           0         0          1            0\n",
            "2      3      1   7.9250       1  ...           1         0          0            0\n",
            "3      1      1  53.1000       0  ...           0         0          1            0\n",
            "4      3      1   8.0500       1  ...           0         1          0            0\n",
            "\n",
            "[5 rows x 14 columns]\n",
            "0    0\n",
            "1    1\n",
            "2    1\n",
            "3    1\n",
            "4    0\n",
            "Name: Survived, dtype: category\n",
            "Categories (2, int64): [0, 1]\n"
          ],
          "name": "stdout"
        }
      ]
    },
    {
      "cell_type": "code",
      "metadata": {
        "id": "izUQoU61It4s",
        "colab_type": "code",
        "colab": {}
      },
      "source": [
        "\n",
        "#Train and test split\n",
        "\n",
        "X_train, X_test,y_train,y_test = train_test_split (X,y,test_size = 0.2,random_state = 42)"
      ],
      "execution_count": 0,
      "outputs": []
    },
    {
      "cell_type": "code",
      "metadata": {
        "id": "Z5Vh-bLWIwtx",
        "colab_type": "code",
        "colab": {
          "base_uri": "https://localhost:8080/",
          "height": 84
        },
        "outputId": "40f7fd68-f136-4679-c0ca-5fb83cc1750b"
      },
      "source": [
        "\n",
        "print(\"Shape of the X_train: \", X_train.shape)\n",
        "print(\"Shape of the y_train: \", y_train.shape)\n",
        "print(\"Shape of the X_test: \", X_test.shape)\n",
        "print(\"Shape of the y_test: \", y_test.shape)"
      ],
      "execution_count": 52,
      "outputs": [
        {
          "output_type": "stream",
          "text": [
            "Shape of the X_train:  (712, 14)\n",
            "Shape of the y_train:  (712,)\n",
            "Shape of the X_test:  (179, 14)\n",
            "Shape of the y_test:  (179,)\n"
          ],
          "name": "stdout"
        }
      ]
    },
    {
      "cell_type": "code",
      "metadata": {
        "id": "hlcWQoxjI0jO",
        "colab_type": "code",
        "colab": {
          "base_uri": "https://localhost:8080/",
          "height": 217
        },
        "outputId": "06550e7b-ae87-4850-9cb0-cb2d891ccbd1"
      },
      "source": [
        "\n",
        "#Perform the K-Nearest Neighbors Classifier\n",
        "\n",
        "model = KNeighborsClassifier()\n",
        "model.fit(X_train, y_train)\n",
        "\n",
        "y_pred = model.predict(X_test)\n",
        "\n",
        "# Summary of the predictions made by the classifier\n",
        "\n",
        "print(classification_report(y_test, y_pred))\n",
        "print(confusion_matrix(y_test, y_pred))\n",
        "\n",
        "# Accuracy score\n",
        "\n",
        "print('The accuracy :',accuracy_score(y_pred,y_test))"
      ],
      "execution_count": 53,
      "outputs": [
        {
          "output_type": "stream",
          "text": [
            "              precision    recall  f1-score   support\n",
            "\n",
            "           0       0.81      0.83      0.82       105\n",
            "           1       0.75      0.73      0.74        74\n",
            "\n",
            "    accuracy                           0.79       179\n",
            "   macro avg       0.78      0.78      0.78       179\n",
            "weighted avg       0.79      0.79      0.79       179\n",
            "\n",
            "[[87 18]\n",
            " [20 54]]\n",
            "The accuracy : 0.7877094972067039\n"
          ],
          "name": "stdout"
        }
      ]
    },
    {
      "cell_type": "markdown",
      "metadata": {
        "id": "qnAsKm2vI3bB",
        "colab_type": "text"
      },
      "source": [
        "Let us repeat the step using 70% training data and 30% test data.\n",
        "\n"
      ]
    },
    {
      "cell_type": "code",
      "metadata": {
        "id": "EHvm5ekJI4ZY",
        "colab_type": "code",
        "colab": {}
      },
      "source": [
        "\n",
        "#Train and test split\n",
        "\n",
        "X_train, X_test,y_train,y_test = train_test_split (X,y,test_size = 0.3,random_state = 42)"
      ],
      "execution_count": 0,
      "outputs": []
    },
    {
      "cell_type": "code",
      "metadata": {
        "id": "US9c85-uI8J9",
        "colab_type": "code",
        "colab": {
          "base_uri": "https://localhost:8080/",
          "height": 84
        },
        "outputId": "01071ac0-57ef-4dbb-8321-b8b63f3e8b60"
      },
      "source": [
        "\n",
        "print(\"Shape of the X_train: \", X_train.shape)\n",
        "print(\"Shape of the y_train: \", y_train.shape)\n",
        "print(\"Shape of the X_test: \", X_test.shape)\n",
        "print(\"Shape of the y_test: \", y_test.shape)"
      ],
      "execution_count": 55,
      "outputs": [
        {
          "output_type": "stream",
          "text": [
            "Shape of the X_train:  (623, 14)\n",
            "Shape of the y_train:  (623,)\n",
            "Shape of the X_test:  (268, 14)\n",
            "Shape of the y_test:  (268,)\n"
          ],
          "name": "stdout"
        }
      ]
    },
    {
      "cell_type": "code",
      "metadata": {
        "id": "ZaUPX4NeJfcg",
        "colab_type": "code",
        "colab": {
          "base_uri": "https://localhost:8080/",
          "height": 217
        },
        "outputId": "ae9802f2-13a6-4940-91af-1a6341eccc72"
      },
      "source": [
        "\n",
        "#Perform the K-Nearest Neighbors Classifier\n",
        "\n",
        "model = KNeighborsClassifier()\n",
        "model.fit(X_train, y_train)\n",
        "\n",
        "y_pred = model.predict(X_test)\n",
        "\n",
        "# Summary of the predictions made by the classifier\n",
        "\n",
        "print(classification_report(y_test, y_pred))\n",
        "print(confusion_matrix(y_test, y_pred))\n",
        "\n",
        "# Accuracy score\n",
        "\n",
        "print('The accuracy :',accuracy_score(y_pred,y_test))"
      ],
      "execution_count": 56,
      "outputs": [
        {
          "output_type": "stream",
          "text": [
            "              precision    recall  f1-score   support\n",
            "\n",
            "           0       0.82      0.85      0.83       157\n",
            "           1       0.77      0.73      0.75       111\n",
            "\n",
            "    accuracy                           0.80       268\n",
            "   macro avg       0.79      0.79      0.79       268\n",
            "weighted avg       0.80      0.80      0.80       268\n",
            "\n",
            "[[133  24]\n",
            " [ 30  81]]\n",
            "The accuracy : 0.7985074626865671\n"
          ],
          "name": "stdout"
        }
      ]
    },
    {
      "cell_type": "markdown",
      "metadata": {
        "id": "79gPTJx4Jitc",
        "colab_type": "text"
      },
      "source": [
        "Let's use 60% training data and 40% test data.\n",
        "\n"
      ]
    },
    {
      "cell_type": "code",
      "metadata": {
        "id": "CMoqPv0lJmid",
        "colab_type": "code",
        "colab": {}
      },
      "source": [
        "\n",
        "#Train and test split\n",
        "\n",
        "X_train, X_test,y_train,y_test = train_test_split (X,y,test_size = 0.4,random_state = 42)"
      ],
      "execution_count": 0,
      "outputs": []
    },
    {
      "cell_type": "code",
      "metadata": {
        "id": "pPix0iOSJrc2",
        "colab_type": "code",
        "colab": {
          "base_uri": "https://localhost:8080/",
          "height": 84
        },
        "outputId": "8bc47472-ea20-493d-ee9d-150303e46622"
      },
      "source": [
        "\n",
        "print(\"Shape of the X_train: \", X_train.shape)\n",
        "print(\"Shape of the y_train: \", y_train.shape)\n",
        "print(\"Shape of the X_test: \", X_test.shape)\n",
        "print(\"Shape of the y_test: \", y_test.shape)"
      ],
      "execution_count": 58,
      "outputs": [
        {
          "output_type": "stream",
          "text": [
            "Shape of the X_train:  (534, 14)\n",
            "Shape of the y_train:  (534,)\n",
            "Shape of the X_test:  (357, 14)\n",
            "Shape of the y_test:  (357,)\n"
          ],
          "name": "stdout"
        }
      ]
    },
    {
      "cell_type": "code",
      "metadata": {
        "id": "jupiXRGQJuv4",
        "colab_type": "code",
        "colab": {
          "base_uri": "https://localhost:8080/",
          "height": 217
        },
        "outputId": "a7ad657a-24e5-4627-d43f-b8979ddb1b3d"
      },
      "source": [
        "\n",
        "#Perform the K-Nearest Neighbors Classifier\n",
        "\n",
        "model = KNeighborsClassifier()\n",
        "model.fit(X_train, y_train)\n",
        "\n",
        "y_pred = model.predict(X_test)\n",
        "\n",
        "# Summary of the predictions made by the classifier\n",
        "\n",
        "print(classification_report(y_test, y_pred))\n",
        "print(confusion_matrix(y_test, y_pred))\n",
        "\n",
        "# Accuracy score\n",
        "\n",
        "print('The accuracy :',accuracy_score(y_pred,y_test))"
      ],
      "execution_count": 59,
      "outputs": [
        {
          "output_type": "stream",
          "text": [
            "              precision    recall  f1-score   support\n",
            "\n",
            "           0       0.81      0.86      0.83       216\n",
            "           1       0.76      0.69      0.72       141\n",
            "\n",
            "    accuracy                           0.79       357\n",
            "   macro avg       0.78      0.77      0.78       357\n",
            "weighted avg       0.79      0.79      0.79       357\n",
            "\n",
            "[[185  31]\n",
            " [ 44  97]]\n",
            "The accuracy : 0.7899159663865546\n"
          ],
          "name": "stdout"
        }
      ]
    },
    {
      "cell_type": "markdown",
      "metadata": {
        "id": "sz4y_DKDJx4O",
        "colab_type": "text"
      },
      "source": [
        "## Optimize the K-Nearest Neighbors Classifier\n",
        "\n",
        "Predict the scores using KNearestNeighbors (KNN) with GridSearchCV\n",
        "\n"
      ]
    },
    {
      "cell_type": "code",
      "metadata": {
        "id": "CXSaPtySJ6yv",
        "colab_type": "code",
        "colab": {
          "base_uri": "https://localhost:8080/",
          "height": 201
        },
        "outputId": "f55b7f4c-b0b2-4015-dd70-b6bcab3140f8"
      },
      "source": [
        "model = KNeighborsClassifier()\n",
        "k_range = list(range(1,10))\n",
        "weights_options = ['uniform','distance']\n",
        "k_grid = dict(n_neighbors=k_range, weights = weights_options)\n",
        "grid = GridSearchCV(model, k_grid, cv=10, scoring = 'precision')\n",
        "grid.fit(X_train, y_train)"
      ],
      "execution_count": 60,
      "outputs": [
        {
          "output_type": "execute_result",
          "data": {
            "text/plain": [
              "GridSearchCV(cv=10, error_score=nan,\n",
              "             estimator=KNeighborsClassifier(algorithm='auto', leaf_size=30,\n",
              "                                            metric='minkowski',\n",
              "                                            metric_params=None, n_jobs=None,\n",
              "                                            n_neighbors=5, p=2,\n",
              "                                            weights='uniform'),\n",
              "             iid='deprecated', n_jobs=None,\n",
              "             param_grid={'n_neighbors': [1, 2, 3, 4, 5, 6, 7, 8, 9],\n",
              "                         'weights': ['uniform', 'distance']},\n",
              "             pre_dispatch='2*n_jobs', refit=True, return_train_score=False,\n",
              "             scoring='precision', verbose=0)"
            ]
          },
          "metadata": {
            "tags": []
          },
          "execution_count": 60
        }
      ]
    },
    {
      "cell_type": "code",
      "metadata": {
        "id": "qxkfzW-RJ9ui",
        "colab_type": "code",
        "colab": {
          "base_uri": "https://localhost:8080/",
          "height": 1000
        },
        "outputId": "f969fa69-22a9-41e5-d564-469297cb9937"
      },
      "source": [
        "grid.cv_results_\n"
      ],
      "execution_count": 61,
      "outputs": [
        {
          "output_type": "execute_result",
          "data": {
            "text/plain": [
              "{'mean_fit_time': array([0.00496378, 0.00448563, 0.0046598 , 0.00458407, 0.00478163,\n",
              "        0.00474703, 0.00470896, 0.00475881, 0.00476513, 0.00452039,\n",
              "        0.00439575, 0.00424809, 0.00448909, 0.00557957, 0.00462093,\n",
              "        0.00492468, 0.00476563, 0.00456522]),\n",
              " 'mean_score_time': array([0.00580032, 0.00390644, 0.00543716, 0.00390737, 0.00566635,\n",
              "        0.00397804, 0.00565941, 0.00400064, 0.00548689, 0.00400293,\n",
              "        0.00534763, 0.00390546, 0.00601087, 0.00535471, 0.00563545,\n",
              "        0.00441792, 0.00550563, 0.00382483]),\n",
              " 'mean_test_score': array([0.65216554, 0.65216554, 0.77953439, 0.72162013, 0.72393717,\n",
              "        0.71634173, 0.73675824, 0.71251534, 0.71175813, 0.70841767,\n",
              "        0.73478167, 0.716566  , 0.67244579, 0.72286282, 0.69593048,\n",
              "        0.70293054, 0.63389086, 0.67475758]),\n",
              " 'param_n_neighbors': masked_array(data=[1, 1, 2, 2, 3, 3, 4, 4, 5, 5, 6, 6, 7, 7, 8, 8, 9, 9],\n",
              "              mask=[False, False, False, False, False, False, False, False,\n",
              "                    False, False, False, False, False, False, False, False,\n",
              "                    False, False],\n",
              "        fill_value='?',\n",
              "             dtype=object),\n",
              " 'param_weights': masked_array(data=['uniform', 'distance', 'uniform', 'distance',\n",
              "                    'uniform', 'distance', 'uniform', 'distance',\n",
              "                    'uniform', 'distance', 'uniform', 'distance',\n",
              "                    'uniform', 'distance', 'uniform', 'distance',\n",
              "                    'uniform', 'distance'],\n",
              "              mask=[False, False, False, False, False, False, False, False,\n",
              "                    False, False, False, False, False, False, False, False,\n",
              "                    False, False],\n",
              "        fill_value='?',\n",
              "             dtype=object),\n",
              " 'params': [{'n_neighbors': 1, 'weights': 'uniform'},\n",
              "  {'n_neighbors': 1, 'weights': 'distance'},\n",
              "  {'n_neighbors': 2, 'weights': 'uniform'},\n",
              "  {'n_neighbors': 2, 'weights': 'distance'},\n",
              "  {'n_neighbors': 3, 'weights': 'uniform'},\n",
              "  {'n_neighbors': 3, 'weights': 'distance'},\n",
              "  {'n_neighbors': 4, 'weights': 'uniform'},\n",
              "  {'n_neighbors': 4, 'weights': 'distance'},\n",
              "  {'n_neighbors': 5, 'weights': 'uniform'},\n",
              "  {'n_neighbors': 5, 'weights': 'distance'},\n",
              "  {'n_neighbors': 6, 'weights': 'uniform'},\n",
              "  {'n_neighbors': 6, 'weights': 'distance'},\n",
              "  {'n_neighbors': 7, 'weights': 'uniform'},\n",
              "  {'n_neighbors': 7, 'weights': 'distance'},\n",
              "  {'n_neighbors': 8, 'weights': 'uniform'},\n",
              "  {'n_neighbors': 8, 'weights': 'distance'},\n",
              "  {'n_neighbors': 9, 'weights': 'uniform'},\n",
              "  {'n_neighbors': 9, 'weights': 'distance'}],\n",
              " 'rank_test_score': array([16, 16,  1,  6,  4,  8,  2,  9, 10, 11,  3,  7, 15,  5, 13, 12, 18,\n",
              "        14], dtype=int32),\n",
              " 'split0_test_score': array([0.6       , 0.6       , 0.65      , 0.65217391, 0.68181818,\n",
              "        0.66666667, 0.75      , 0.65217391, 0.65217391, 0.65217391,\n",
              "        0.68421053, 0.65217391, 0.66666667, 0.68181818, 0.7       ,\n",
              "        0.60869565, 0.66666667, 0.63636364]),\n",
              " 'split1_test_score': array([0.56521739, 0.56521739, 0.66666667, 0.63157895, 0.68181818,\n",
              "        0.69565217, 0.625     , 0.66666667, 0.65217391, 0.66666667,\n",
              "        0.66666667, 0.65217391, 0.64      , 0.66666667, 0.68421053,\n",
              "        0.68181818, 0.69565217, 0.69565217]),\n",
              " 'split2_test_score': array([0.57894737, 0.57894737, 0.61538462, 0.64705882, 0.6875    ,\n",
              "        0.64705882, 0.8       , 0.64705882, 0.73684211, 0.70588235,\n",
              "        0.78571429, 0.6875    , 0.75      , 0.71428571, 0.76923077,\n",
              "        0.70588235, 0.66666667, 0.66666667]),\n",
              " 'split3_test_score': array([0.66666667, 0.66666667, 0.64705882, 0.68181818, 0.66666667,\n",
              "        0.69565217, 0.57142857, 0.72727273, 0.7       , 0.7       ,\n",
              "        0.68421053, 0.71428571, 0.66666667, 0.71428571, 0.66666667,\n",
              "        0.71428571, 0.61904762, 0.68181818]),\n",
              " 'split4_test_score': array([0.64705882, 0.64705882, 0.85714286, 0.64285714, 0.66666667,\n",
              "        0.64285714, 0.66666667, 0.61538462, 0.5625    , 0.5625    ,\n",
              "        0.58333333, 0.5625    , 0.5       , 0.58823529, 0.53846154,\n",
              "        0.52631579, 0.5       , 0.55555556]),\n",
              " 'split5_test_score': array([0.75      , 0.75      , 1.        , 0.78571429, 0.70588235,\n",
              "        0.75      , 0.83333333, 0.75      , 0.66666667, 0.6875    ,\n",
              "        0.76923077, 0.78571429, 0.66666667, 0.73333333, 0.75      ,\n",
              "        0.76923077, 0.5625    , 0.66666667]),\n",
              " 'split6_test_score': array([0.65      , 0.65      , 0.75      , 0.75      , 0.75      ,\n",
              "        0.6875    , 0.73333333, 0.70588235, 0.76470588, 0.70588235,\n",
              "        0.69230769, 0.70588235, 0.63157895, 0.6875    , 0.53333333,\n",
              "        0.61111111, 0.5625    , 0.5625    ]),\n",
              " 'split7_test_score': array([0.57692308, 0.57692308, 0.7       , 0.625     , 0.65      ,\n",
              "        0.63636364, 0.625     , 0.61904762, 0.57894737, 0.6       ,\n",
              "        0.625     , 0.6       , 0.57894737, 0.63157895, 0.58823529,\n",
              "        0.6       , 0.57894737, 0.6       ]),\n",
              " 'split8_test_score': array([0.73684211, 0.73684211, 1.        , 0.86666667, 0.86666667,\n",
              "        0.86666667, 0.91666667, 0.86666667, 0.92857143, 0.92857143,\n",
              "        1.        , 0.92307692, 0.84615385, 0.92857143, 0.91666667,\n",
              "        0.92307692, 0.76470588, 0.8       ]),\n",
              " 'split9_test_score': array([0.75      , 0.75      , 0.90909091, 0.93333333, 0.88235294,\n",
              "        0.875     , 0.84615385, 0.875     , 0.875     , 0.875     ,\n",
              "        0.85714286, 0.88235294, 0.77777778, 0.88235294, 0.8125    ,\n",
              "        0.88888889, 0.72222222, 0.88235294]),\n",
              " 'std_fit_time': array([0.00069112, 0.0001996 , 0.00039811, 0.00019528, 0.00040984,\n",
              "        0.00051151, 0.00028627, 0.00040091, 0.00018447, 0.00036276,\n",
              "        0.00018398, 0.00023847, 0.00074431, 0.00090497, 0.0003372 ,\n",
              "        0.00096259, 0.0004076 , 0.00022492]),\n",
              " 'std_score_time': array([0.00037879, 0.00033782, 0.00025098, 0.0001487 , 0.00043308,\n",
              "        0.00023238, 0.00038677, 0.00027973, 0.00030374, 0.00035322,\n",
              "        0.00036872, 0.00038431, 0.00106116, 0.00189522, 0.00058144,\n",
              "        0.00109323, 0.00040098, 0.00010458]),\n",
              " 'std_test_score': array([0.0691794 , 0.0691794 , 0.14185533, 0.10314421, 0.07960824,\n",
              "        0.08345962, 0.1072727 , 0.08945899, 0.11237318, 0.10709411,\n",
              "        0.11646505, 0.11022449, 0.0941204 , 0.10027981, 0.11595353,\n",
              "        0.12129408, 0.07889052, 0.09657771])}"
            ]
          },
          "metadata": {
            "tags": []
          },
          "execution_count": 61
        }
      ]
    },
    {
      "cell_type": "code",
      "metadata": {
        "id": "ANAOYc5EKBCa",
        "colab_type": "code",
        "colab": {
          "base_uri": "https://localhost:8080/",
          "height": 33
        },
        "outputId": "e26844b7-3704-4451-8128-f10772550409"
      },
      "source": [
        "print (\"Best Score: \",str(grid.best_score_))\n"
      ],
      "execution_count": 62,
      "outputs": [
        {
          "output_type": "stream",
          "text": [
            "Best Score:  0.779534387181446\n"
          ],
          "name": "stdout"
        }
      ]
    },
    {
      "cell_type": "code",
      "metadata": {
        "id": "cpw4U9BxKDSA",
        "colab_type": "code",
        "colab": {
          "base_uri": "https://localhost:8080/",
          "height": 33
        },
        "outputId": "13f25ec9-8d70-4436-8f1e-36f5615cebb5"
      },
      "source": [
        "print (\"Best Parameters: \",str(grid.best_params_))\n"
      ],
      "execution_count": 63,
      "outputs": [
        {
          "output_type": "stream",
          "text": [
            "Best Parameters:  {'n_neighbors': 2, 'weights': 'uniform'}\n"
          ],
          "name": "stdout"
        }
      ]
    },
    {
      "cell_type": "code",
      "metadata": {
        "id": "JP8ZZBjKKFti",
        "colab_type": "code",
        "colab": {
          "base_uri": "https://localhost:8080/",
          "height": 67
        },
        "outputId": "68f51db2-9d05-4c52-82d5-248b94fdfb46"
      },
      "source": [
        "print (\"Best Estimators: \",str(grid.best_estimator_))\n"
      ],
      "execution_count": 64,
      "outputs": [
        {
          "output_type": "stream",
          "text": [
            "Best Estimators:  KNeighborsClassifier(algorithm='auto', leaf_size=30, metric='minkowski',\n",
            "                     metric_params=None, n_jobs=None, n_neighbors=2, p=2,\n",
            "                     weights='uniform')\n"
          ],
          "name": "stdout"
        }
      ]
    },
    {
      "cell_type": "code",
      "metadata": {
        "id": "zAnX0jRkKJFC",
        "colab_type": "code",
        "colab": {}
      },
      "source": [
        "\n",
        "#Predict scores\n",
        "\n",
        "y_pred = grid.predict(X_test)"
      ],
      "execution_count": 0,
      "outputs": []
    },
    {
      "cell_type": "code",
      "metadata": {
        "id": "9vuSY_cFKMao",
        "colab_type": "code",
        "colab": {
          "base_uri": "https://localhost:8080/",
          "height": 33
        },
        "outputId": "d7681c33-d513-453d-b955-66d67c86e5ad"
      },
      "source": [
        "\n",
        "#Calculate Accuracy\n",
        "\n",
        "print('The accuracy :',accuracy_score(y_pred,y_test))"
      ],
      "execution_count": 66,
      "outputs": [
        {
          "output_type": "stream",
          "text": [
            "The accuracy : 0.7535014005602241\n"
          ],
          "name": "stdout"
        }
      ]
    },
    {
      "cell_type": "code",
      "metadata": {
        "id": "SPRt3239KRWQ",
        "colab_type": "code",
        "colab": {
          "base_uri": "https://localhost:8080/",
          "height": 167
        },
        "outputId": "98ef98cf-8272-48f4-d4f0-d102722cda50"
      },
      "source": [
        "\n",
        "# Calculate precision, recall, and fbeta_score\n",
        "\n",
        "print(classification_report(y_test, y_pred))"
      ],
      "execution_count": 67,
      "outputs": [
        {
          "output_type": "stream",
          "text": [
            "              precision    recall  f1-score   support\n",
            "\n",
            "           0       0.74      0.92      0.82       216\n",
            "           1       0.80      0.50      0.61       141\n",
            "\n",
            "    accuracy                           0.75       357\n",
            "   macro avg       0.77      0.71      0.72       357\n",
            "weighted avg       0.76      0.75      0.74       357\n",
            "\n"
          ],
          "name": "stdout"
        }
      ]
    },
    {
      "cell_type": "markdown",
      "metadata": {
        "id": "4m9ItPhdKUyQ",
        "colab_type": "text"
      },
      "source": [
        "A larger dataset would result in a higher level of accuracy."
      ]
    }
  ]
}